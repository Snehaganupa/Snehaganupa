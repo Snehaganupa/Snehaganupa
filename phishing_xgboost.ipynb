{
  "cells": [
    {
      "cell_type": "markdown",
      "metadata": {
        "id": "view-in-github",
        "colab_type": "text"
      },
      "source": [
        "<a href=\"https://colab.research.google.com/github/Snehaganupa/Snehaganupa/blob/main/phishing_xgboost.ipynb\" target=\"_parent\"><img src=\"https://colab.research.google.com/assets/colab-badge.svg\" alt=\"Open In Colab\"/></a>"
      ]
    },
    {
      "cell_type": "markdown",
      "id": "a30af2a3",
      "metadata": {
        "id": "a30af2a3"
      },
      "source": [
        "# Phishing Detection with XGBoost"
      ]
    },
    {
      "cell_type": "code",
      "execution_count": 1,
      "id": "0fef5584",
      "metadata": {
        "id": "0fef5584"
      },
      "outputs": [],
      "source": [
        "!pip install xgboost scikit-learn pandas numpy --quiet"
      ]
    },
    {
      "cell_type": "code",
      "execution_count": 3,
      "id": "358bb615",
      "metadata": {
        "id": "358bb615"
      },
      "outputs": [],
      "source": [
        "\n",
        "import pandas as pd\n",
        "import numpy as np\n",
        "import re\n",
        "from urllib.parse import urlparse\n",
        "from sklearn.model_selection import train_test_split\n",
        "from sklearn.feature_extraction.text import TfidfVectorizer\n",
        "from sklearn.metrics import accuracy_score, precision_score, recall_score, f1_score, classification_report, confusion_matrix\n",
        "from xgboost import XGBClassifier\n",
        "from scipy.sparse import hstack\n",
        "import seaborn as sns\n",
        "import matplotlib.pyplot as plt\n"
      ]
    },
    {
      "cell_type": "code",
      "execution_count": 4,
      "id": "acb836b4",
      "metadata": {
        "id": "acb836b4"
      },
      "outputs": [],
      "source": [
        "\n",
        "df = pd.read_csv(\"/content/phish_legit_site_urls.csv\")\n",
        "df[\"label\"] = df[\"Label\"].map({\"bad\": 1, \"good\": 0})\n",
        "df.drop(columns=[\"Label\"], inplace=True)\n",
        "df = df[df[\"URL\"].str.len() > 10]\n",
        "phish = df[df.label == 1].sample(n=min(100000, len(df[df.label == 1])), random_state=42)\n",
        "legit = df[df.label == 0].sample(n=min(100000, len(df[df.label == 0])), random_state=42)\n",
        "df_balanced = pd.concat([phish, legit], ignore_index=True).sample(frac=1, random_state=42)\n"
      ]
    },
    {
      "cell_type": "code",
      "execution_count": 5,
      "id": "f062c516",
      "metadata": {
        "id": "f062c516"
      },
      "outputs": [],
      "source": [
        "\n",
        "def safe_parse(url):\n",
        "    try:\n",
        "        if not url.startswith((\"http://\", \"https://\")):\n",
        "            url = \"http://\" + url\n",
        "        return urlparse(url)\n",
        "    except:\n",
        "        return urlparse(\"http://invalid.url\")\n",
        "\n",
        "suspicious_words = ['login', 'secure', 'account', 'update', 'free', 'verify', 'bank', 'paypal']\n",
        "def extract_features(url):\n",
        "    parsed = safe_parse(url)\n",
        "    domain = parsed.netloc or \"\"\n",
        "    path = parsed.path + parsed.query\n",
        "    try:\n",
        "        entropy_val = round(-sum(p * np.log2(p) for p in [float(url.count(c)) / len(url) for c in set(url)] if p > 0), 5)\n",
        "    except:\n",
        "        entropy_val = 0\n",
        "    return {\n",
        "        \"url_length\": len(url),\n",
        "        \"domain_length\": len(domain),\n",
        "        \"path_length\": len(path),\n",
        "        \"num_dots\": url.count('.'),\n",
        "        \"num_hyphens\": url.count('-'),\n",
        "        \"num_slashes\": url.count('/'),\n",
        "        \"num_at\": url.count('@'),\n",
        "        \"has_https\": int(url.startswith(\"https\")),\n",
        "        \"has_ip\": int(bool(re.search(r'\\b(?:[0-9]{1,3}\\.){3}[0-9]{1,3}\\b', domain))),\n",
        "        \"starts_with_ip\": int(bool(re.match(r'^(http[s]?://)?(\\d{1,3}\\.){3}\\d{1,3}', url))),\n",
        "        \"contains_suspicious_word\": int(any(word in url.lower() for word in suspicious_words)),\n",
        "        \"has_double_slash_redirect\": int('//' in path.strip('/')),\n",
        "        \"num_params\": url.count('&') + url.count('?'),\n",
        "        \"entropy\": entropy_val,\n",
        "    }\n",
        "\n",
        "features_df = df_balanced[\"URL\"].apply(extract_features).apply(pd.Series)\n",
        "features_df[\"label\"] = df_balanced[\"label\"]\n",
        "tfidf = TfidfVectorizer(analyzer='char_wb', ngram_range=(3,5), max_features=300)\n",
        "X_tfidf = tfidf.fit_transform(df_balanced[\"URL\"])\n",
        "X_smart = features_df.drop(columns=[\"label\"])\n",
        "X = hstack([X_tfidf, X_smart])\n",
        "y = features_df[\"label\"]\n"
      ]
    },
    {
      "cell_type": "code",
      "execution_count": 6,
      "id": "e05a9e9c",
      "metadata": {
        "colab": {
          "base_uri": "https://localhost:8080/"
        },
        "id": "e05a9e9c",
        "outputId": "0fdd97e1-0891-41a0-e3b3-7bfc6787e134"
      },
      "outputs": [
        {
          "output_type": "stream",
          "name": "stderr",
          "text": [
            "/usr/local/lib/python3.11/dist-packages/xgboost/core.py:158: UserWarning: [04:41:40] WARNING: /workspace/src/learner.cc:740: \n",
            "Parameters: { \"use_label_encoder\" } are not used.\n",
            "\n",
            "  warnings.warn(smsg, UserWarning)\n"
          ]
        }
      ],
      "source": [
        "\n",
        "X_train, X_test, y_train, y_test = train_test_split(X, y, test_size=0.2, stratify=y, random_state=42)\n",
        "clf = XGBClassifier(use_label_encoder=False, eval_metric='logloss', random_state=42)\n",
        "clf.fit(X_train, y_train)\n",
        "y_pred = clf.predict(X_test)\n"
      ]
    },
    {
      "cell_type": "code",
      "execution_count": 7,
      "id": "6d24faf6",
      "metadata": {
        "colab": {
          "base_uri": "https://localhost:8080/"
        },
        "id": "6d24faf6",
        "outputId": "13832c85-c1da-468d-a7d2-27a2acb3968b"
      },
      "outputs": [
        {
          "output_type": "stream",
          "name": "stdout",
          "text": [
            "Accuracy: 0.920925\n",
            "Precision: 0.9298881683092478\n",
            "Recall: 0.9105\n",
            "F1 Score: 0.9200919586691256\n",
            "\n",
            "Classification Report:\n",
            "               precision    recall  f1-score   support\n",
            "\n",
            "  Legitimate       0.91      0.93      0.92     20000\n",
            "    Phishing       0.93      0.91      0.92     20000\n",
            "\n",
            "    accuracy                           0.92     40000\n",
            "   macro avg       0.92      0.92      0.92     40000\n",
            "weighted avg       0.92      0.92      0.92     40000\n",
            "\n"
          ]
        }
      ],
      "source": [
        "\n",
        "print(\"Accuracy:\", accuracy_score(y_test, y_pred))\n",
        "print(\"Precision:\", precision_score(y_test, y_pred))\n",
        "print(\"Recall:\", recall_score(y_test, y_pred))\n",
        "print(\"F1 Score:\", f1_score(y_test, y_pred))\n",
        "print(\"\\nClassification Report:\\n\", classification_report(y_test, y_pred, target_names=[\"Legitimate\", \"Phishing\"]))\n"
      ]
    },
    {
      "cell_type": "code",
      "execution_count": 9,
      "id": "e012fade",
      "metadata": {
        "colab": {
          "base_uri": "https://localhost:8080/",
          "height": 507
        },
        "id": "e012fade",
        "outputId": "1ec6189b-c0db-4794-cdd8-ec9b56398c7f"
      },
      "outputs": [
        {
          "output_type": "display_data",
          "data": {
            "text/plain": [
              "<Figure size 600x500 with 2 Axes>"
            ],
            "image/png": "[encoded data removed]"
          },
          "metadata": {}
        }
      ],
      "source": [
        "\n",
        "cm = confusion_matrix(y_test, y_pred)\n",
        "labels = [\"Legitimate\", \"Phishing\"]\n",
        "plt.figure(figsize=(6, 5))\n",
        "sns.heatmap(cm, annot=True, fmt=\"d\", cmap=\"Greens\", xticklabels=labels, yticklabels=labels)\n",
        "plt.xlabel(\"Predicted Label\")\n",
        "plt.ylabel(\"True Label\")\n",
        "plt.title(\"Confusion Matrix - XGBoost\")\n",
        "plt.tight_layout()\n",
        "plt.show()\n"
      ]
    }
  ],
  "metadata": {
    "colab": {
      "provenance": [],
      "include_colab_link": true
    },
    "language_info": {
      "name": "python"
    },
    "kernelspec": {
      "name": "python3",
      "display_name": "Python 3"
    }
  },
  "nbformat": 4,
  "nbformat_minor": 5
}