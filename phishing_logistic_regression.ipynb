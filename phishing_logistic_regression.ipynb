{
  "cells": [
    {
      "cell_type": "markdown",
      "metadata": {
        "id": "view-in-github",
        "colab_type": "text"
      },
      "source": [
        "<a href=\"https://colab.research.google.com/github/Snehaganupa/Snehaganupa/blob/main/phishing_logistic_regression.ipynb\" target=\"_parent\"><img src=\"https://colab.research.google.com/assets/colab-badge.svg\" alt=\"Open In Colab\"/></a>"
      ]
    },
    {
      "cell_type": "markdown",
      "id": "5b1bb98a",
      "metadata": {
        "id": "5b1bb98a"
      },
      "source": [
        "# Phishing Detection with Logistic Regression"
      ]
    },
    {
      "cell_type": "code",
      "execution_count": 1,
      "id": "90221e2a",
      "metadata": {
        "id": "90221e2a"
      },
      "outputs": [],
      "source": [
        "!pip install scikit-learn pandas numpy --quiet"
      ]
    },
    {
      "cell_type": "code",
      "execution_count": 2,
      "id": "b819fabe",
      "metadata": {
        "id": "b819fabe"
      },
      "outputs": [],
      "source": [
        "\n",
        "import pandas as pd\n",
        "import numpy as np\n",
        "import re\n",
        "from urllib.parse import urlparse\n",
        "from sklearn.model_selection import train_test_split\n",
        "from sklearn.feature_extraction.text import TfidfVectorizer\n",
        "from sklearn.linear_model import LogisticRegression\n",
        "from sklearn.preprocessing import StandardScaler\n",
        "from sklearn.metrics import accuracy_score, precision_score, recall_score, f1_score, classification_report, confusion_matrix\n",
        "from scipy.sparse import hstack\n",
        "import matplotlib.pyplot as plt\n",
        "import seaborn as sns\n"
      ]
    },
    {
      "cell_type": "code",
      "execution_count": 4,
      "id": "4acd56b0",
      "metadata": {
        "id": "4acd56b0"
      },
      "outputs": [],
      "source": [
        "\n",
        "df = pd.read_csv(\"/content/phish_legit_site_urls.csv\")\n",
        "df[\"label\"] = df[\"Label\"].map({\"bad\": 1, \"good\": 0})\n",
        "df.drop(columns=[\"Label\"], inplace=True)\n",
        "df = df[df[\"URL\"].str.len() > 10]\n",
        "phish = df[df.label == 1].sample(n=100000, random_state=42)\n",
        "legit = df[df.label == 0].sample(n=100000, random_state=42)\n",
        "df_balanced = pd.concat([phish, legit], ignore_index=True).sample(frac=1, random_state=42)\n"
      ]
    },
    {
      "cell_type": "code",
      "execution_count": 5,
      "id": "98054bd3",
      "metadata": {
        "id": "98054bd3"
      },
      "outputs": [],
      "source": [
        "\n",
        "def safe_parse(url):\n",
        "    try:\n",
        "        if not url.startswith((\"http://\", \"https://\")):\n",
        "            url = \"http://\" + url\n",
        "        return urlparse(url)\n",
        "    except:\n",
        "        return urlparse(\"http://invalid.url\")\n",
        "\n",
        "suspicious_words = ['login', 'secure', 'account', 'update', 'free', 'verify', 'bank', 'paypal']\n",
        "\n",
        "def extract_features(url):\n",
        "    parsed = safe_parse(url)\n",
        "    domain = parsed.netloc or \"\"\n",
        "    path = parsed.path + parsed.query\n",
        "    try:\n",
        "        entropy_val = round(-sum(p * np.log2(p) for p in [float(url.count(c)) / len(url) for c in set(url)] if p > 0), 5)\n",
        "    except:\n",
        "        entropy_val = 0\n",
        "    return {\n",
        "        \"url_length\": len(url),\n",
        "        \"domain_length\": len(domain),\n",
        "        \"path_length\": len(path),\n",
        "        \"num_dots\": url.count('.'),\n",
        "        \"num_hyphens\": url.count('-'),\n",
        "        \"num_slashes\": url.count('/'),\n",
        "        \"num_at\": url.count('@'),\n",
        "        \"has_https\": int(url.startswith(\"https\")),\n",
        "        \"has_ip\": int(bool(re.search(r'\\b(?:[0-9]{1,3}\\.){3}[0-9]{1,3}\\b', domain))),\n",
        "        \"starts_with_ip\": int(bool(re.match(r'^(http[s]?://)?(\\d{1,3}\\.){3}\\d{1,3}', url))),\n",
        "        \"contains_suspicious_word\": int(any(word in url.lower() for word in suspicious_words)),\n",
        "        \"has_double_slash_redirect\": int('//' in path.strip('/')),\n",
        "        \"num_params\": url.count('&') + url.count('?'),\n",
        "        \"entropy\": entropy_val,\n",
        "    }\n",
        "\n",
        "features_df = df_balanced[\"URL\"].apply(extract_features).apply(pd.Series)\n",
        "features_df[\"label\"] = df_balanced[\"label\"]\n",
        "tfidf = TfidfVectorizer(analyzer='char_wb', ngram_range=(3,5), max_features=300)\n",
        "X_tfidf = tfidf.fit_transform(df_balanced[\"URL\"])\n",
        "X_smart = features_df.drop(columns=[\"label\"])\n",
        "X_combined = hstack([X_tfidf, X_smart])\n",
        "y = features_df[\"label\"]\n"
      ]
    },
    {
      "cell_type": "code",
      "execution_count": 6,
      "id": "205171a8",
      "metadata": {
        "id": "205171a8"
      },
      "outputs": [],
      "source": [
        "\n",
        "X_train, X_test, y_train, y_test = train_test_split(X_combined, y, test_size=0.2, stratify=y, random_state=42)\n",
        "X_smart_train = X_train[:, -X_smart.shape[1]:].toarray()\n",
        "X_smart_test = X_test[:, -X_smart.shape[1]:].toarray()\n",
        "scaler = StandardScaler()\n",
        "X_smart_train_scaled = scaler.fit_transform(X_smart_train)\n",
        "X_smart_test_scaled = scaler.transform(X_smart_test)\n",
        "X_train_final = hstack([X_train[:, :X_tfidf.shape[1]], X_smart_train_scaled])\n",
        "X_test_final = hstack([X_test[:, :X_tfidf.shape[1]], X_smart_test_scaled])\n"
      ]
    },
    {
      "cell_type": "code",
      "execution_count": 7,
      "id": "2fa18ba3",
      "metadata": {
        "id": "2fa18ba3"
      },
      "outputs": [],
      "source": [
        "\n",
        "clf = LogisticRegression(max_iter=1000, random_state=42)\n",
        "clf.fit(X_train_final, y_train)\n",
        "y_pred = clf.predict(X_test_final)\n"
      ]
    },
    {
      "cell_type": "code",
      "execution_count": 8,
      "id": "205ac1df",
      "metadata": {
        "colab": {
          "base_uri": "https://localhost:8080/"
        },
        "id": "205ac1df",
        "outputId": "248684a3-0f96-4e5d-bdf8-3dd6759337c6"
      },
      "outputs": [
        {
          "output_type": "stream",
          "name": "stdout",
          "text": [
            "Accuracy: 0.85475\n",
            "Precision: 0.8796147672552167\n",
            "Recall: 0.822\n",
            "F1 Score: 0.8498319979322823\n",
            "\n",
            "Classification Report:\n",
            "               precision    recall  f1-score   support\n",
            "\n",
            "  Legitimate       0.83      0.89      0.86     20000\n",
            "    Phishing       0.88      0.82      0.85     20000\n",
            "\n",
            "    accuracy                           0.85     40000\n",
            "   macro avg       0.86      0.85      0.85     40000\n",
            "weighted avg       0.86      0.85      0.85     40000\n",
            "\n"
          ]
        }
      ],
      "source": [
        "\n",
        "print(\"Accuracy:\", accuracy_score(y_test, y_pred))\n",
        "print(\"Precision:\", precision_score(y_test, y_pred))\n",
        "print(\"Recall:\", recall_score(y_test, y_pred))\n",
        "print(\"F1 Score:\", f1_score(y_test, y_pred))\n",
        "print(\"\\nClassification Report:\\n\", classification_report(y_test, y_pred, target_names=[\"Legitimate\", \"Phishing\"]))\n"
      ]
    },
    {
      "cell_type": "code",
      "execution_count": 9,
      "id": "d6011e6b",
      "metadata": {
        "colab": {
          "base_uri": "https://localhost:8080/",
          "height": 507
        },
        "id": "d6011e6b",
        "outputId": "cded7182-a36e-44b9-8c9f-5e56dc34f043"
      },
      "outputs": [
        {
          "output_type": "display_data",
          "data": {
            "text/plain": [
              "<Figure size 600x500 with 2 Axes>"
            ],
            "image/png": "[encoded data removed]"
          },
          "metadata": {}
        }
      ],
      "source": [
        "\n",
        "cm = confusion_matrix(y_test, y_pred)\n",
        "labels = [\"Legitimate\", \"Phishing\"]\n",
        "plt.figure(figsize=(6, 5))\n",
        "sns.heatmap(cm, annot=True, fmt=\"d\", cmap=\"Greens\", xticklabels=labels, yticklabels=labels)\n",
        "plt.xlabel(\"Predicted Label\")\n",
        "plt.ylabel(\"True Label\")\n",
        "plt.title(\"Confusion Matrix - Logistic Regression\")\n",
        "plt.tight_layout()\n",
        "plt.show()\n"
      ]
    }
  ],
  "metadata": {
    "colab": {
      "provenance": [],
      "include_colab_link": true
    },
    "language_info": {
      "name": "python"
    },
    "kernelspec": {
      "name": "python3",
      "display_name": "Python 3"
    }
  },
  "nbformat": 4,
  "nbformat_minor": 5
}